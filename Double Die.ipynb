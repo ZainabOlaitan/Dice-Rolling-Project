{
 "cells": [
  {
   "cell_type": "code",
   "execution_count": 45,
   "id": "18cbd484",
   "metadata": {},
   "outputs": [],
   "source": [
    "import random\n",
    "import tkinter\n",
    "from tkinter import messagebox\n",
    "from PIL import Image, ImageTk\n",
    "\n",
    "#creating a widget/window with the name dice\n",
    "dice = tkinter.Tk()\n",
    "#size of widget\n",
    "dice.geometry(\"400x400\")\n",
    "#title of widget\n",
    "dice.title(\"Dice Rolling\")\n",
    "#colour of widget\n",
    "dice[\"bg\"]= \"blue\"\n",
    "\n",
    "#creating a \"box\" to type in a text with specified font and background colour\n",
    "title = Label(dice, text = \"\\nTHE_AKINTAYO\", font = \"Helvetica 22 bold\", bg = \"blue\")\n",
    "\n",
    "#to show the \"textbox\" created\n",
    "title.pack()\n"
   ]
  },
  {
   "cell_type": "code",
   "execution_count": 46,
   "id": "af40179e",
   "metadata": {},
   "outputs": [],
   "source": [
    "#creating a list of dice\n",
    "dice_image = [\"die-1.png\", \"die-2.png\", \"die-3.png\", \"die-4.png\", \"die-5.png\", \"die-6.png\"]\n",
    "\n",
    "#Choosing a random die\n",
    "die = random.choice(dice_image)\n",
    "#opening the chosen die image\n",
    "Dice_roll = ImageTk.PhotoImage(Image.open(die))\n",
    "#Displaying the die image as a label on the dice widget\n",
    "image_label = Label(dice, image=Dice_roll)\n",
    "#displaying the label\n",
    "image_label.pack(expand = True)\n",
    "\n",
    "#creating another random die\n",
    "die2 = random.choice(dice_image)\n",
    "Dice_roll2 = ImageTk.PhotoImage(Image.open(die2))\n",
    "image_label2 = Label(dice, image=Dice_roll2)\n",
    "\n",
    "image_label2.pack(expand = True)\n"
   ]
  },
  {
   "cell_type": "code",
   "execution_count": 47,
   "id": "6415c3aa",
   "metadata": {},
   "outputs": [],
   "source": [
    "#creating a function to roll the die\n",
    "def rolling_dice():\n",
    "    #select a random die\n",
    "    die = random.choice(dice_image)\n",
    "    #select another random die\n",
    "    die2 = random.choice(dice_image)\n",
    "    #open the chosen die\n",
    "    Dice_roll = ImageTk.PhotoImage(Image.open(die))\n",
    "    #change the image in the label created previously\n",
    "    image_label.configure(image=Dice_roll)\n",
    "    #display the image\n",
    "    image_label.image = Dice_roll \n",
    "    image_label.pack(expand = True)\n",
    "    \n",
    "    Dice_roll2 = ImageTk.PhotoImage(Image.open(die2))\n",
    "    image_label2.configure(image=Dice_roll2)\n",
    "    image_label2.image = Dice_roll2\n",
    "    image_label2.pack(expand = True)\n",
    "    #notification for a double 6\n",
    "    if die == \"die-6.png\" and die2== \"die-6.png\":\n",
    "        messagebox.showinfo(\"Lucky\", \"Roll again\")\n",
    "    "
   ]
  },
  {
   "cell_type": "code",
   "execution_count": 48,
   "id": "13f5c906",
   "metadata": {},
   "outputs": [],
   "source": [
    "#creation a button to roll the dice\n",
    "button = tkinter.Button(dice, text =\"Roll the Dice\", fg = \"blue\", command = rolling_dice)\n",
    "button.pack(expand = True)\n",
    "dice.mainloop()"
   ]
  },
  {
   "cell_type": "code",
   "execution_count": 27,
   "id": "6d079be2",
   "metadata": {},
   "outputs": [
    {
     "data": {
      "text/plain": [
       "'ok'"
      ]
     },
     "execution_count": 27,
     "metadata": {},
     "output_type": "execute_result"
    }
   ],
   "source": []
  },
  {
   "cell_type": "code",
   "execution_count": null,
   "id": "13979529",
   "metadata": {},
   "outputs": [],
   "source": []
  }
 ],
 "metadata": {
  "kernelspec": {
   "display_name": "Python 3 (ipykernel)",
   "language": "python",
   "name": "python3"
  },
  "language_info": {
   "codemirror_mode": {
    "name": "ipython",
    "version": 3
   },
   "file_extension": ".py",
   "mimetype": "text/x-python",
   "name": "python",
   "nbconvert_exporter": "python",
   "pygments_lexer": "ipython3",
   "version": "3.9.7"
  }
 },
 "nbformat": 4,
 "nbformat_minor": 5
}
